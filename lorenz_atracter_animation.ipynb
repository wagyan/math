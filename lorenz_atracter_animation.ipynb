{
  "nbformat": 4,
  "nbformat_minor": 0,
  "metadata": {
    "colab": {
      "name": "lorenz_atracter_animation.ipynb",
      "version": "0.3.2",
      "provenance": [],
      "include_colab_link": true
    },
    "kernelspec": {
      "name": "python3",
      "display_name": "Python 3"
    }
  },
  "cells": [
    {
      "cell_type": "markdown",
      "metadata": {
        "id": "view-in-github",
        "colab_type": "text"
      },
      "source": [
        "<a href=\"https://colab.research.google.com/github/wagyan/math/blob/master/lorenz_atracter_animation.ipynb\" target=\"_parent\"><img src=\"https://colab.research.google.com/assets/colab-badge.svg\" alt=\"Open In Colab\"/></a>"
      ]
    },
    {
      "metadata": {
        "id": "v8iOE7o6dPEU",
        "colab_type": "code",
        "colab": {}
      },
      "cell_type": "code",
      "source": [
        "from google.colab import drive\n",
        "drive.mount('/content/drive')"
      ],
      "execution_count": 0,
      "outputs": []
    },
    {
      "metadata": {
        "id": "0DCMTSYPHE90",
        "colab_type": "code",
        "colab": {}
      },
      "cell_type": "code",
      "source": [
        "\n",
        "import matplotlib as mpl\n",
        "from mpl_toolkits.mplot3d import Axes3D\n",
        "import numpy as np\n",
        "import matplotlib.pyplot as plt\n",
        "import matplotlib.animation as anm\n",
        "\n",
        "def LorenzEquation(x,y,z):\n",
        "  dx = -p*x + p*y\n",
        "  dy = -x*z + r*x -y\n",
        "  dz = x*y - b*z\n",
        "  return dx,dy,dz\n",
        "\n",
        "mpl.rcParams['legend.fontsize'] = 40\n",
        "#mpl.rcParams['figure.figsize'] = 25.6, 19.2\n",
        "mpl.rcParams['figure.dpi'] = 100\n",
        "\n",
        "#パラメータ\n",
        "p, r, b = 10.0, 28.0, 8/3\n",
        "#初期値\n",
        "x, y, z = 10.0, 20.0, 30.0\n",
        "px, py, pz=[x], [y], [z]\n",
        "#ステップ幅\n",
        "h = 1/1000\n",
        "#プロット数\n",
        "n=100000\n",
        "#時間間隔\n",
        "t=10\n",
        "\n",
        "itr=int(5000/t) #500\n",
        "fr=int(n/itr) #200\n",
        "\n",
        "for i in range(n):\n",
        "  kx1,ky1,kz1 = LorenzEquation(x,y,z)\n",
        "  kx2,ky2,kz2 = LorenzEquation(x+kx1*h/2,y+ky1*h/2,z+kz1*h/2)\n",
        "  kx3,ky3,kz3 = LorenzEquation(x+kx2*h/2,y+ky2*h/2,z+kz2*h/2)\n",
        "  kx4,ky4,kz4 = LorenzEquation(x+kx3*h,y+ky3*h,z+kz3*h)\n",
        "  x=x+h*(kx1+2*kx2+2*kx3+kx4)/6\n",
        "  y=y+h*(ky1+2*ky2+2*ky3+ky4)/6\n",
        "  z=z+h*(kz1+2*kz2+2*kz3+kz4)/6\n",
        "  px.extend([x])\n",
        "  py.extend([y])\n",
        "  pz.extend([z])\n",
        "\n",
        "fig = plt.figure()\n",
        "ax = fig.gca(projection='3d')\n",
        "  \n",
        "def update(i):\n",
        "  plt.cla()\n",
        "  ax.plot(px[0:(i+1)*fr], py[0:(i+1)*fr], pz[0:(i+1)*fr], label='Lorenz Equation', markerfacecolor='r')\n",
        "  ax.legend()\n",
        "\n",
        "Writer = anm.writers['ffmpeg']\n",
        "writer = Writer(fps=15, metadata=dict(artist='Me'), bitrate=1800)\n",
        "\n",
        "ani = anm.FuncAnimation(fig, update, interval=t, frames=itr)\n",
        "\n",
        "ani.save(\"LorenzEquation.mp4\", writer=writer)\n",
        "\n",
        "#ani.save(\"LorenzEquation2.gif\", writer = 'imagemagick')\n",
        "\n",
        "plt.show()\n"
      ],
      "execution_count": 0,
      "outputs": []
    },
    {
      "metadata": {
        "id": "BqkoiY_Kdhl0",
        "colab_type": "text"
      },
      "cell_type": "markdown",
      "source": [
        "パラメータの調整は、以下のサイトを参照した。\n",
        "https://qiita.com/cnloni/items/20b5908fbae755192498\n"
      ]
    }
  ]
}