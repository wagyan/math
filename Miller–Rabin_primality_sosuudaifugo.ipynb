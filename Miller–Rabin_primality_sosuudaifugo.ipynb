{
  "nbformat": 4,
  "nbformat_minor": 0,
  "metadata": {
    "colab": {
      "name": "Miller–Rabin_primality_sosuudaifugo.ipynb",
      "version": "0.3.2",
      "provenance": [],
      "collapsed_sections": [],
      "include_colab_link": true
    },
    "kernelspec": {
      "name": "python3",
      "display_name": "Python 3"
    }
  },
  "cells": [
    {
      "cell_type": "markdown",
      "metadata": {
        "id": "view-in-github",
        "colab_type": "text"
      },
      "source": [
        "[View in Colaboratory](https://colab.research.google.com/github/wagyan/math/blob/master/Miller%E2%80%93Rabin_primality_sosuudaifugo.ipynb)"
      ]
    },
    {
      "metadata": {
        "id": "FG-1tbXt4b96",
        "colab_type": "code",
        "colab": {
          "base_uri": "https://localhost:8080/",
          "height": 71
        },
        "outputId": "4d778d75-18da-4294-9297-1be09aba4de5"
      },
      "cell_type": "code",
      "source": [
        "import random\n",
        "import math\n",
        "import numpy as np\n",
        "import itertools\n",
        "\n",
        "def isPrime(num):\n",
        "  k=100\n",
        "  d=mkd(num)  \n",
        "  s=int(math.log2(num/d))\n",
        "  for i in range(k):\n",
        "    a=random.randint(1,num-1)\n",
        "    ard=pow(a,d,num)\n",
        "    if not(ard==1):\n",
        "      c=0\n",
        "      for r in range(0, s):\n",
        "        if not(ard == num-1): c=c+1\n",
        "        ard=(ard*ard) %num\n",
        "      if c==s: return False\n",
        "  return True\n",
        "\n",
        "def mkd(n):\n",
        "  d=n-1\n",
        "  while d&1==0:\n",
        "    d>>=1\n",
        "  return d\n",
        "\n",
        "onewan=[13,13,12,12,12,11,11,10,10,1]\n",
        "mae=99887766544332\n",
        "b=0\n",
        "ushiro=1\n",
        "count=0\n",
        "for a in itertools.permutations(onewan):\n",
        "  count+=1\n",
        "  if(not(b==a)):\n",
        "    x=int(str(mae)+\"\".join(map(str,a))+str(ushiro))\n",
        "    if isPrime(x)==True: \n",
        "      print(x) \n",
        "      break\n",
        "  b=a\n",
        "\n",
        "print(count)\n",
        "print(x)"
      ],
      "execution_count": 1,
      "outputs": [
        {
          "output_type": "stream",
          "text": [
            "9988776654433213131212111112110101\n",
            "149\n",
            "9988776654433213131212111112110101\n"
          ],
          "name": "stdout"
        }
      ]
    },
    {
      "metadata": {
        "id": "Q5S4FKLbIkrS",
        "colab_type": "code",
        "colab": {}
      },
      "cell_type": "code",
      "source": [
        ""
      ],
      "execution_count": 0,
      "outputs": []
    }
  ]
}