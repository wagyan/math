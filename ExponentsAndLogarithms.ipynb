{
  "nbformat": 4,
  "nbformat_minor": 0,
  "metadata": {
    "colab": {
      "provenance": [],
      "authorship_tag": "ABX9TyOQdbd47/IlB2jmnRexQvFH",
      "include_colab_link": true
    },
    "kernelspec": {
      "name": "python3",
      "display_name": "Python 3"
    },
    "language_info": {
      "name": "python"
    }
  },
  "cells": [
    {
      "cell_type": "markdown",
      "metadata": {
        "id": "view-in-github",
        "colab_type": "text"
      },
      "source": [
        "<a href=\"https://colab.research.google.com/github/wagyan/math/blob/master/ExponentsAndLogarithms.ipynb\" target=\"_parent\"><img src=\"https://colab.research.google.com/assets/colab-badge.svg\" alt=\"Open In Colab\"/></a>"
      ]
    },
    {
      "cell_type": "code",
      "execution_count": null,
      "metadata": {
        "id": "8oFI0ufPVmhB"
      },
      "outputs": [],
      "source": [
        "from sympy import log, simplify, N, Eq\n",
        "x=2**(log(18,6))\n",
        "y=3**((2+log(2,3))*log(2,6))"
      ]
    },
    {
      "cell_type": "code",
      "source": [
        "#xとyの差分をとって、0になるか確かめる\n",
        "x=x-y\n",
        "y=0"
      ],
      "metadata": {
        "id": "rN4pHZL1VsEw"
      },
      "execution_count": null,
      "outputs": []
    },
    {
      "cell_type": "code",
      "source": [
        "#両辺のlog_2を取ると、途端に正解する\n",
        "x=log(x,2)\n",
        "y=log(y,2)"
      ],
      "metadata": {
        "id": "pdAp-hFUVsj5"
      },
      "execution_count": null,
      "outputs": []
    },
    {
      "cell_type": "code",
      "source": [
        "#数式を整理する\n",
        "x=simplify(x)\n",
        "y=simplify(y)"
      ],
      "metadata": {
        "id": "NAbZE1HsVs7X"
      },
      "execution_count": null,
      "outputs": []
    },
    {
      "cell_type": "code",
      "source": [
        "#数値計算する\n",
        "x=N(x)\n",
        "y=N(y)"
      ],
      "metadata": {
        "id": "oyUNmId2VtOz"
      },
      "execution_count": null,
      "outputs": []
    },
    {
      "cell_type": "code",
      "source": [
        "#評価する\n",
        "print(\"x:: {}\".format(x))\n",
        "print(\"y:: {}\".format(y))\n",
        "\n",
        "print(\"x==y:: {}\".format(x==y))\n",
        "print(\"sympy.x.equals(y):: {}\".format(x.equals(y)))\n",
        "print(\"sympy.Eq(x,y).simplify():: {}\".format(Eq(x,y).simplify()))"
      ],
      "metadata": {
        "id": "UyuvAY1AVyFp"
      },
      "execution_count": null,
      "outputs": []
    }
  ]
}