{
  "nbformat": 4,
  "nbformat_minor": 0,
  "metadata": {
    "colab": {
      "name": "change_order.ipynb",
      "version": "0.3.2",
      "provenance": [],
      "include_colab_link": true
    },
    "kernelspec": {
      "name": "python2",
      "display_name": "Python 2"
    }
  },
  "cells": [
    {
      "cell_type": "markdown",
      "metadata": {
        "id": "view-in-github",
        "colab_type": "text"
      },
      "source": [
        "[View in Colaboratory](https://colab.research.google.com/github/wagyan/math/blob/master/change_order.ipynb)"
      ]
    },
    {
      "metadata": {
        "id": "q1i-OqMpa7ny",
        "colab_type": "code",
        "colab": {}
      },
      "cell_type": "code",
      "source": [
        "import random\n",
        "import math\n",
        "import itertools\n",
        "\n",
        "def isPrime(num):\n",
        "  k=100\n",
        "  d=mkd(num)  \n",
        "  s=int(math.log(num/d,2))\n",
        "  for i in range(k):\n",
        "    a=random.randint(1,num-1)\n",
        "    ard=pow(a,d,num)\n",
        "    if not(ard==1):\n",
        "      c=0\n",
        "      for r in range(0, s):\n",
        "        if not(ard == num-1): c=c+1\n",
        "        ard=(ard*ard) %num\n",
        "      if c==s: return False\n",
        "  return True\n",
        "\n",
        "def mkd(n):\n",
        "  d=n-1\n",
        "  while d&1==0:\n",
        "    d>>=1\n",
        "  return d\n",
        "\n",
        "\n",
        "inp=raw_input()\n",
        "\n",
        "b=0\n",
        "c=0\n",
        "d=[]\n",
        "count=0\n",
        "\n",
        "for a in itertools.permutations(inp):\n",
        "  count+=1\n",
        "  if(not(b==a)):\n",
        "    c=str(\"\".join(map(str,a)))\n",
        "    x=c.replace('K','13')\n",
        "    x=x.replace('Q','12')\n",
        "    x=x.replace('J','11')\n",
        "    x=x.replace('T','10')\n",
        "    x=x.replace('A','1')\n",
        "    x=int(x)\n",
        "    if isPrime(x)==True: \n",
        "      d.append(c)\n",
        "  b=a\n",
        "\n",
        "d=list(set(d))\n",
        "print(d)\n"
      ],
      "execution_count": 0,
      "outputs": []
    }
  ]
}